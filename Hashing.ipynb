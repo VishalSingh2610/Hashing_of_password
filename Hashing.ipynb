{
  "nbformat": 4,
  "nbformat_minor": 0,
  "metadata": {
    "colab": {
      "name": "Hashing.ipynb",
      "provenance": []
    },
    "kernelspec": {
      "name": "python3",
      "display_name": "Python 3"
    },
    "language_info": {
      "name": "python"
    }
  },
  "cells": [
    {
      "cell_type": "code",
      "metadata": {
        "id": "axxSCUV7XR8Z"
      },
      "source": [
        " \n",
        "import hashlib\n",
        "import random\n",
        "import os\n",
        " \n",
        "#here is hash md5 of a string\n",
        " \n",
        "text=input(\"write any text:  \")\n",
        "hash_obj= hashlib.md5(text.encode())\n",
        "md5_hash=hash_obj.hexdigest()\n",
        "print(md5_hash) \n",
        "print(\"\\n\")\n",
        " \n",
        "#here is first algorithm which is sha1\n",
        " \n",
        "hash_obj1=hashlib.sha1(b'ShapeAI')\n",
        "sha1_hash=hash_obj1.hexdigest()\n",
        "print(sha1_hash)\n",
        "print(\"\\n\")\n",
        " \n",
        "#here is second alo which is sha256\n",
        " \n",
        "hash_obj2=hashlib.sha256(b'ShapeAI')\n",
        "sha256_hash=hash_obj2.hexdigest()\n",
        "print(sha256_hash)\n",
        "print(\"\\n\")\n",
        " \n",
        " \n",
        "#here is third algo which is sha512\n",
        " \n",
        "hash_obj3=hashlib.sha512(b'ShapeAI')\n",
        "sha512_hash=hash_obj3.hexdigest()\n",
        "print(sha512_hash)\n",
        "print(\"\\n\")\n",
        " \n",
        "#here is the salting of password\n",
        " \n",
        "password = \"ShapeAI\"\n",
        "password = password.encode()\n",
        "salt = os.urandom(25)\n",
        "password_hash = hashlib.pbkdf2_hmac(\"sha256\", password, salt, 100000)\n",
        " \n",
        " print(\"Salted & hashed password: \")\n",
        "print(password_hash)"
      ],
      "execution_count": null,
      "outputs": []
    }
  ]
}